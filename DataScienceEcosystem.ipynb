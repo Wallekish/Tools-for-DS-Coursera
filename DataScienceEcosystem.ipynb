{
  "metadata": {
    "kernelspec": {
      "name": "python",
      "display_name": "Python (Pyodide)",
      "language": "python"
    },
    "language_info": {
      "codemirror_mode": {
        "name": "python",
        "version": 3
      },
      "file_extension": ".py",
      "mimetype": "text/x-python",
      "name": "python",
      "nbconvert_exporter": "python",
      "pygments_lexer": "ipython3",
      "version": "3.8"
    }
  },
  "nbformat_minor": 4,
  "nbformat": 4,
  "cells": [
    {
      "cell_type": "markdown",
      "source": "#Exercise 1: Create a Jupyter Notebook called DataScienceEcosystem.ipynb",
      "metadata": {}
    },
    {
      "cell_type": "markdown",
      "source": "#Exercise 2: Create a markdown cell with the title Data Science Tools and Ecosystem using H1 style heading.\r\n\r\n# Data Science Tools and Ecosystem",
      "metadata": {}
    },
    {
      "cell_type": "markdown",
      "source": "#Exercise 3: Write an introductory sentence about the notebook such as the follows:\n\nIn this notebook, Data Science Tools and Ecosystem are summarized.",
      "metadata": {}
    },
    {
      "cell_type": "markdown",
      "source": "#Exercise 10: Below the introduction cell created in Exercise 3, insert a new markdown cell to list the objectives that this notebook covered.\n#In this new cell start with an introductory line titled: Objectives: in bold font.\n#Then using an unordered list (bullets) indicate 3 to 5 items covered in this notebook, such as List popular languages for Data Science.\n\n**Objectives**\n- Languages for Data Science\n- Libraries for Data Science\n- Data Science Tools\n- Running basic arithmetic\n",
      "metadata": {}
    },
    {
      "cell_type": "markdown",
      "source": "#Exercise 4: Start the cell with an overview line and then create an ordered list (i.e. numbered) listing 3 (or more) commonly used languages for data science.\n\n**Some of the popular languages that Data Scientists use are:**\n\n1. R\n2. Python\n3. SQL",
      "metadata": {}
    },
    {
      "cell_type": "markdown",
      "source": "#Exercise 5: Add an overview line to the cell and below this line add an ordered list listing 3 (or more) commonly used libraries in data science.\n\n**Some of the commonly used libraries used by Data Scientists include:**\n    \n    1. ggplot2\n    2. Pandas\n    3. Matplotlib",
      "metadata": {}
    },
    {
      "cell_type": "markdown",
      "source": "#Exercise 6: Create a single column table in this cell with the first row containing the header Data Science Tools. The subsequent three rows in the table should indicate three development environment open source tools used in data science.\n\n|Data Science Tools |\n---------------------\n|RStudio |\n|Jupyter Notebook |\n|Apache Spark |",
      "metadata": {}
    },
    {
      "cell_type": "markdown",
      "source": "#Exercise 7:  Create a markdown cell introducing arithmetic expression examples and add a line in this cell with H3 style heading.\n\n### Below are a few examples of evaluating arithmetic expressions in Python:\n\n1. print(3 + 7)\n2. print(2*7)\n3. print(12/4)",
      "metadata": {}
    },
    {
      "cell_type": "code",
      "source": "#Exercise 8: Create a code cell to multiply and add numbers to evaluate (3*4)+5. With an explanatory comment line.\n\n#Comment line: This operation multiplies and then adds an integer.\nprint((3*4)+5)",
      "metadata": {
        "trusted": true
      },
      "outputs": [
        {
          "name": "stdout",
          "text": "17\n",
          "output_type": "stream"
        }
      ],
      "execution_count": 3
    },
    {
      "cell_type": "code",
      "source": "#Exercise 9: In this code cell write an expression that converts 200 minutes into hours.\n#Insert a comment line before the expression to explain the operation e.g.  This will convert 200 minutes to hours by diving by 60.\n#Run the cell to evaluate the expression.\n\n#Comment line: This operation gives the amount of hours as a fraction for 200 minutes\nprint(200/60)\n",
      "metadata": {
        "trusted": true
      },
      "outputs": [
        {
          "name": "stdout",
          "text": "3.3333333333333335\n",
          "output_type": "stream"
        }
      ],
      "execution_count": 4
    },
    {
      "cell_type": "markdown",
      "source": "#Exercise 11: In this markdown cell markdown cell include the following text Author in H2 style heading.\n#Include your name as regular text below the word Author.\n\n## Author\nWalther Glodstaf\n",
      "metadata": {}
    },
    {
      "cell_type": "code",
      "source": "",
      "metadata": {
        "trusted": true
      },
      "outputs": [],
      "execution_count": null
    }
  ]
}